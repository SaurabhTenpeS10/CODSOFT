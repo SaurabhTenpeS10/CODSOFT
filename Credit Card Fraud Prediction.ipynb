{
 "cells": [
  {
   "cell_type": "markdown",
   "id": "ac56dfbe",
   "metadata": {},
   "source": [
    "# Task: Credit Card Fraud Detection"
   ]
  },
  {
   "cell_type": "code",
   "execution_count": null,
   "id": "97595076",
   "metadata": {},
   "outputs": [],
   "source": [
    "import pandas as pd\n",
    "import numpy as np\n",
    "import seaborn as sns\n",
    "import matplotlib.pyplot as plt\n",
    "from sklearn.model_selection import train_test_split\n",
    "from sklearn.linear_model import LinearRegression, LogisticRegression\n",
    "from sklearn.metrics import confusion_matrix, precision_score, recall_score, f1_score"
   ]
  },
  {
   "cell_type": "markdown",
   "id": "baf65913",
   "metadata": {},
   "source": [
    "## Load the Dataset"
   ]
  },
  {
   "cell_type": "code",
   "execution_count": null,
   "id": "10b7f3ef",
   "metadata": {},
   "outputs": [],
   "source": [
    "df = pd.read_csv('creditcard.csv')\n",
    "df"
   ]
  },
  {
   "cell_type": "markdown",
   "id": "0ad0b89c",
   "metadata": {},
   "source": [
    "## Separate features (X) and target variable (y)"
   ]
  },
  {
   "cell_type": "code",
   "execution_count": null,
   "id": "a631a654",
   "metadata": {},
   "outputs": [],
   "source": [
    "X = df.drop(['Class'],axis=1)\n",
    "X"
   ]
  },
  {
   "cell_type": "code",
   "execution_count": null,
   "id": "7bbeb709",
   "metadata": {},
   "outputs": [],
   "source": [
    "y=df[['Class']]\n",
    "y"
   ]
  },
  {
   "cell_type": "markdown",
   "id": "8faecc62",
   "metadata": {},
   "source": [
    "## Split data into training and testing sets"
   ]
  },
  {
   "cell_type": "code",
   "execution_count": null,
   "id": "916f6c69",
   "metadata": {},
   "outputs": [],
   "source": [
    "X_train,X_test,y_train,y_test = train_test_split(X,y,test_size=0.3,random_state=42)"
   ]
  },
  {
   "cell_type": "markdown",
   "id": "d59b5eec",
   "metadata": {},
   "source": [
    "## Create a linear regression model"
   ]
  },
  {
   "cell_type": "code",
   "execution_count": null,
   "id": "d9e56617",
   "metadata": {},
   "outputs": [],
   "source": [
    "reg = LinearRegression()"
   ]
  },
  {
   "cell_type": "markdown",
   "id": "ae314453",
   "metadata": {},
   "source": [
    "## Train the model on the training data"
   ]
  },
  {
   "cell_type": "code",
   "execution_count": null,
   "id": "a841b22e",
   "metadata": {},
   "outputs": [],
   "source": [
    "reg.fit(X_train,y_train)"
   ]
  },
  {
   "cell_type": "markdown",
   "id": "d12fd1cd",
   "metadata": {},
   "source": [
    "## Evaluate the model"
   ]
  },
  {
   "cell_type": "code",
   "execution_count": null,
   "id": "8258fcae",
   "metadata": {},
   "outputs": [],
   "source": [
    "reg.score(X_test,y_test)"
   ]
  },
  {
   "cell_type": "markdown",
   "id": "49edb501",
   "metadata": {},
   "source": [
    "## Create a Logistic regression model "
   ]
  },
  {
   "cell_type": "code",
   "execution_count": null,
   "id": "e5b492c0",
   "metadata": {},
   "outputs": [],
   "source": [
    "lr_model = LogisticRegression()"
   ]
  },
  {
   "cell_type": "markdown",
   "id": "420ed02d",
   "metadata": {},
   "source": [
    "## Train the model on the training data"
   ]
  },
  {
   "cell_type": "code",
   "execution_count": null,
   "id": "c75bc178",
   "metadata": {},
   "outputs": [],
   "source": [
    "lr_model.fit(X_train,y_train)"
   ]
  },
  {
   "cell_type": "markdown",
   "id": "05a2db19",
   "metadata": {},
   "source": [
    "## Evaluate the model"
   ]
  },
  {
   "cell_type": "code",
   "execution_count": null,
   "id": "103f095f",
   "metadata": {},
   "outputs": [],
   "source": [
    "lr_model.score(X_test,y_test)"
   ]
  },
  {
   "cell_type": "code",
   "execution_count": null,
   "id": "2e170f6a",
   "metadata": {},
   "outputs": [],
   "source": [
    "# Make predictions on the test data\n",
    "y_pred = lr_model.predict(X_test)"
   ]
  },
  {
   "cell_type": "code",
   "execution_count": null,
   "id": "8c8580dd",
   "metadata": {},
   "outputs": [],
   "source": [
    "# Evaluate the model\n",
    "conf_matrix = confusion_matrix(y_test, y_pred)\n",
    "precision = precision_score(y_test, y_pred)\n",
    "recall = recall_score(y_test, y_pred)\n",
    "f1 = f1_score(y_test, y_pred)"
   ]
  },
  {
   "cell_type": "code",
   "execution_count": null,
   "id": "7afa5774",
   "metadata": {},
   "outputs": [],
   "source": [
    "print(\"Confusion Matrix:\")\n",
    "print(conf_matrix)\n",
    "print(\"Precision:\", precision)\n",
    "print(\"Recall:\", recall)\n",
    "print(\"F1-score:\", f1)"
   ]
  },
  {
   "cell_type": "markdown",
   "id": "946b908e",
   "metadata": {},
   "source": [
    "## Visualize the confusion matrix"
   ]
  },
  {
   "cell_type": "code",
   "execution_count": null,
   "id": "6f8a2fba",
   "metadata": {},
   "outputs": [],
   "source": [
    "plt.figure(figsize=(6, 4))\n",
    "sns.heatmap(conf_matrix, annot=True, fmt='d', cmap='Blues')\n",
    "plt.title(\"Confusion Matrix\")\n",
    "plt.xlabel(\"Predicted Labels\")\n",
    "plt.ylabel(\"True Labels\")\n",
    "plt.show()"
   ]
  }
 ],
 "metadata": {
  "kernelspec": {
   "display_name": "Python 3 (ipykernel)",
   "language": "python",
   "name": "python3"
  },
  "language_info": {
   "codemirror_mode": {
    "name": "ipython",
    "version": 3
   },
   "file_extension": ".py",
   "mimetype": "text/x-python",
   "name": "python",
   "nbconvert_exporter": "python",
   "pygments_lexer": "ipython3",
   "version": "3.9.13"
  }
 },
 "nbformat": 4,
 "nbformat_minor": 5
}
